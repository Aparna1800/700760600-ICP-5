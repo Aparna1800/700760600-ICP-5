{
  "nbformat": 4,
  "nbformat_minor": 0,
  "metadata": {
    "colab": {
      "provenance": []
    },
    "kernelspec": {
      "name": "python3",
      "display_name": "Python 3"
    },
    "language_info": {
      "name": "python"
    }
  },
  "cells": [
    {
      "cell_type": "code",
      "execution_count": 1,
      "metadata": {
        "colab": {
          "base_uri": "https://localhost:8080/"
        },
        "id": "J9mtsL2Yw4xv",
        "outputId": "367c9766-1c96-4dad-c1ba-3ac6d67c65bf"
      },
      "outputs": [
        {
          "output_type": "stream",
          "name": "stdout",
          "text": [
            "Accuracy: 0.37209302325581395\n",
            "Classification Report:\n",
            "               precision    recall  f1-score   support\n",
            "\n",
            "           1       0.19      0.44      0.27         9\n",
            "           2       0.33      0.16      0.21        19\n",
            "           3       0.33      0.20      0.25         5\n",
            "           5       0.00      0.00      0.00         2\n",
            "           6       0.67      1.00      0.80         2\n",
            "           7       1.00      1.00      1.00         6\n",
            "\n",
            "    accuracy                           0.37        43\n",
            "   macro avg       0.42      0.47      0.42        43\n",
            "weighted avg       0.40      0.37      0.36        43\n",
            "\n"
          ]
        }
      ],
      "source": [
        "import pandas as pd\n",
        "from sklearn.model_selection import train_test_split\n",
        "from sklearn.naive_bayes import GaussianNB\n",
        "from sklearn.metrics import classification_report, accuracy_score\n",
        "\n",
        "# Load the glass dataset\n",
        "glass_data = pd.read_csv(\"/content/glass.csv\")\n",
        "\n",
        "# Split the dataset into features and target\n",
        "x_train = glass_data.drop(\"Type\", axis=1)\n",
        "y_train = glass_data['Type']\n",
        "\n",
        "# Split the dataset into training and testing parts\n",
        "x_train, x_test, y_train, y_test = train_test_split(x_train, y_train, test_size=0.2, random_state=0)\n",
        "\n",
        "# Fit the Naive Bayes model on the training data\n",
        "gnb = GaussianNB()\n",
        "gnb.fit(x_train, y_train)\n",
        "\n",
        "# Predict the target on the test data\n",
        "y_pred = gnb.predict(x_test)\n",
        "\n",
        "# Evaluate the model\n",
        "print(\"Accuracy:\",accuracy_score(y_test,y_pred))\n",
        "print(\"Classification Report:\\n\",classification_report(y_test, y_pred))"
      ]
    },
    {
      "cell_type": "code",
      "source": [
        "import pandas as pd\n",
        "from sklearn.model_selection import train_test_split\n",
        "from sklearn.svm import SVC\n",
        "from sklearn.metrics import classification_report, accuracy_score\n",
        "\n",
        "# Load the glass dataset\n",
        "glass_data = pd.read_csv(\"/content/glass.csv\")\n",
        "\n",
        "# Split tha dataset into features and target\n",
        "x_train = glass_data.drop(\"Type\", axis=1)\n",
        "y_train = glass_data['Type']\n",
        "\n",
        "# Split the dataset into training and testing parts\n",
        "x_train, x_test, y_train, y_test = train_test_split(x_train, y_train, test_size=0.2, random_state=0)\n",
        "SVC()\n",
        "\n",
        "# Fit the linear SVM model on the training data\n",
        "svc = SVC()\n",
        "svc.fit(x_train, y_train)\n",
        "\n",
        "# Predict the target on the test data\n",
        "y_pred = svc.predict(x_test)\n",
        "\n",
        "# Evaluate the model\n",
        "print(\"Accuracy:\", accuracy_score(y_test, y_pred))\n",
        "print(\"\\nClassification Report:\\n\", classification_report(y_test, y_pred))\n"
      ],
      "metadata": {
        "colab": {
          "base_uri": "https://localhost:8080/"
        },
        "id": "xtQ5fymQ0jQh",
        "outputId": "e7ecc1c6-dced-443a-9533-a36a3e08235b"
      },
      "execution_count": 4,
      "outputs": [
        {
          "output_type": "stream",
          "name": "stdout",
          "text": [
            "Accuracy: 0.20930232558139536\n",
            "\n",
            "Classification Report:\n",
            "               precision    recall  f1-score   support\n",
            "\n",
            "           1       0.21      1.00      0.35         9\n",
            "           2       0.00      0.00      0.00        19\n",
            "           3       0.00      0.00      0.00         5\n",
            "           5       0.00      0.00      0.00         2\n",
            "           6       0.00      0.00      0.00         2\n",
            "           7       0.00      0.00      0.00         6\n",
            "\n",
            "    accuracy                           0.21        43\n",
            "   macro avg       0.03      0.17      0.06        43\n",
            "weighted avg       0.04      0.21      0.07        43\n",
            "\n"
          ]
        },
        {
          "output_type": "stream",
          "name": "stderr",
          "text": [
            "/usr/local/lib/python3.10/dist-packages/sklearn/metrics/_classification.py:1344: UndefinedMetricWarning: Precision and F-score are ill-defined and being set to 0.0 in labels with no predicted samples. Use `zero_division` parameter to control this behavior.\n",
            "  _warn_prf(average, modifier, msg_start, len(result))\n",
            "/usr/local/lib/python3.10/dist-packages/sklearn/metrics/_classification.py:1344: UndefinedMetricWarning: Precision and F-score are ill-defined and being set to 0.0 in labels with no predicted samples. Use `zero_division` parameter to control this behavior.\n",
            "  _warn_prf(average, modifier, msg_start, len(result))\n",
            "/usr/local/lib/python3.10/dist-packages/sklearn/metrics/_classification.py:1344: UndefinedMetricWarning: Precision and F-score are ill-defined and being set to 0.0 in labels with no predicted samples. Use `zero_division` parameter to control this behavior.\n",
            "  _warn_prf(average, modifier, msg_start, len(result))\n"
          ]
        }
      ]
    }
  ]
}